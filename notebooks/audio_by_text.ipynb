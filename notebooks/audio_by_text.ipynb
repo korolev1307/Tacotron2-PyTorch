{
 "cells": [
  {
   "cell_type": "code",
   "execution_count": null,
   "metadata": {},
   "outputs": [],
   "source": [
    "import inference\n",
    "import time\n",
    "import os\n",
    "import inference_e2e_v2 as inference_vocoder\n",
    "from russian import normalize_russian\n",
    "from text2phonemesequence import Text2PhonemeSequence\n",
    "path_to_taco = 'ckpt/2try_200k/ckpt_200000'\n",
    "path_to_hifigan = 'hifigan/cp_hifigan/GTA/g_00520000'\n",
    "taco2 = inference.load_model(path_to_taco)\n",
    "hifigan = inference_vocoder.get_model(path_to_hifigan)\n",
    "text2phone_model = Text2PhonemeSequence(language='rus', is_cuda=True)"
   ]
  },
  {
   "cell_type": "code",
   "execution_count": null,
   "metadata": {},
   "outputs": [],
   "source": [
    "def get_audio_by_text(text_list, taco2, hifigan, phoneme_model, path_save_mel, path_save_wav):\n",
    "    for idx, text in enumerate(text_list):\n",
    "        start = time.time()\n",
    "        prepared_text = normalize_russian(text)\n",
    "        print(f\"filename: {str(idx) + text[:20]}, normalize_russian time: {time.time() - start}\")\n",
    "        start = time.time()\n",
    "        prepared_text = phoneme_model.infer_sentence(prepared_text)\n",
    "        print(f\"filename: {str(idx) + text[:20]}, phoneme_model time: {time.time() - start}\")\n",
    "        start = time.time()\n",
    "        output = inference.infer(prepared_text, taco2)\n",
    "        print(f\"filename: {str(idx) + text[:20]}, taco2 time: {time.time() - start}\")\n",
    "        start = time.time()\n",
    "        inference.save_mel(output, f'{path_save_mel}{str(idx) + text[:20]}')\n",
    "        print(f\"filename: {str(idx) + text[:20]}, taco2 save_mel time: {time.time() - start}\")\n",
    "        inference_vocoder.inference_by_mel(hifigan, f'{path_save_mel}{str(idx) + text[:20]}.npy', f'{path_save_wav}{str(idx) + text[:20]}.wav')\n",
    "        print(f\"filename: {str(idx) + text[:20]}, full cycle time: {time.time() - start}\")"
   ]
  },
  {
   "cell_type": "code",
   "execution_count": null,
   "metadata": {},
   "outputs": [],
   "source": [
    "path_save_mel = 'inference_example/input_mels_dir/'\n",
    "path_save_wav = 'inference_example/output_wav_dir/'\n",
    "data = ['Пример 1', \n",
    "        'Пример 2']\n",
    "get_audio_by_text(data, taco2, hifigan, text2phone_model, path_save_mel, path_save_wav)"
   ]
  },
  {
   "cell_type": "code",
   "execution_count": null,
   "metadata": {},
   "outputs": [],
   "source": []
  }
 ],
 "metadata": {
  "kernelspec": {
   "display_name": "korolev_tts",
   "language": "python",
   "name": "python3"
  },
  "language_info": {
   "codemirror_mode": {
    "name": "ipython",
    "version": 3
   },
   "file_extension": ".py",
   "mimetype": "text/x-python",
   "name": "python",
   "nbconvert_exporter": "python",
   "pygments_lexer": "ipython3",
   "version": "3.12.3"
  }
 },
 "nbformat": 4,
 "nbformat_minor": 2
}
